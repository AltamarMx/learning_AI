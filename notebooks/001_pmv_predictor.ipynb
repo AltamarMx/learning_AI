{
 "cells": [
  {
   "cell_type": "code",
   "execution_count": 1,
   "metadata": {},
   "outputs": [],
   "source": [
    "import matplotlib.pyplot as plt\n",
    "import pandas as pd\n",
    "import numpy as np\n",
    "import tensorflow as tf\n"
   ]
  },
  {
   "cell_type": "code",
   "execution_count": 2,
   "metadata": {},
   "outputs": [
    {
     "name": "stdout",
     "output_type": "stream",
     "text": [
      "(0, 'Date/Time')\n",
      "(1, 'Environment:Site Outdoor Air Drybulb Temperature [C](TimeStep)')\n",
      "(2, 'D7:Zone Mean Radiant Temperature [C](TimeStep)')\n",
      "(3, 'D7:Zone Mean Air Temperature [C](TimeStep)')\n",
      "(4, 'D7:Zone Mean Air Dewpoint Temperature [C](TimeStep)')\n",
      "(5, 'D7:AFN Zone Infiltration Volume [m3](TimeStep)')\n",
      "(6, 'D7:AFN Zone Infiltration Air Change Rate [ach](TimeStep)')\n",
      "(7, 'D7:Zone Air Relative Humidity [%](TimeStep)')\n",
      "(8, 'D7 PEOPLE:Zone Thermal Comfort Fanger Model PMV [](TimeStep)')\n",
      "(9, 'D7 PEOPLE:Zone Thermal Comfort Fanger Model PPD [%](TimeStep)')\n"
     ]
    }
   ],
   "source": [
    "nombres = np.genfromtxt(\"../data/pmv.csv\",delimiter=',',max_rows=1,dtype=\"U\")\n",
    "for i in enumerate(nombres):\n",
    "    print(i)\n",
    "    \n",
    "nombres[0] = 'tiempo'\n",
    "nombres[1] = \"To\"\n",
    "nombres[2] = 'Tr'\n",
    "nombres[3] = \"Ti\"\n",
    "nombres[4] = 'Tbh'\n",
    "nombres[5] = \"m3\"\n",
    "nombres[6] = 'ach'\n",
    "nombres[7] = \"hr\"\n",
    "nombres[8] = 'pmv'\n",
    "nombres[9] = \"ppd\""
   ]
  },
  {
   "cell_type": "code",
   "execution_count": 3,
   "metadata": {},
   "outputs": [
    {
     "data": {
      "text/plain": [
       "Index(['To', 'Tr', 'Ti', 'Tbh', 'ach', 'hr', 'target'], dtype='object')"
      ]
     },
     "execution_count": 3,
     "metadata": {},
     "output_type": "execute_result"
    }
   ],
   "source": [
    "pmv = pd.read_csv(\"../data/pmv.csv\",delimiter=\",\",names=nombres,skiprows=1)\n",
    "pmv = pmv[pmv.pmv>=0 ]\n",
    "pmv.loc[(pmv.pmv>=0)|(pmv.pmv<=0.5),\"target\"] = 0\n",
    "pmv.loc[(pmv.pmv>0.5),\"target\"] = 1\n",
    "del pmv['m3']\n",
    "del pmv['tiempo']\n",
    "del pmv['pmv']\n",
    "del pmv['ppd']\n",
    "pmv.columns"
   ]
  },
  {
   "cell_type": "code",
   "execution_count": 4,
   "metadata": {},
   "outputs": [
    {
     "data": {
      "text/plain": [
       "[<matplotlib.lines.Line2D at 0x14e633908>]"
      ]
     },
     "execution_count": 4,
     "metadata": {},
     "output_type": "execute_result"
    },
    {
     "data": {
      "image/png": "[encoded data removed]",
      "text/plain": [
       "<Figure size 432x288 with 1 Axes>"
      ]
     },
     "metadata": {
      "needs_background": "light"
     },
     "output_type": "display_data"
    }
   ],
   "source": [
    "# pmv.target.plot()\n",
    "fig, ax = plt.subplots()\n",
    "\n",
    "ax.plot(pmv.target,\"r.\")"
   ]
  },
  {
   "cell_type": "code",
   "execution_count": 53,
   "metadata": {},
   "outputs": [],
   "source": [
    "data   = np.array(pmv[[ 'Ti', 'hr']])\n",
    "target = np.array(pmv.target,dtype=int)\n"
   ]
  },
  {
   "cell_type": "code",
   "execution_count": 54,
   "metadata": {},
   "outputs": [],
   "source": [
    "from sklearn.model_selection import train_test_split"
   ]
  },
  {
   "cell_type": "code",
   "execution_count": 55,
   "metadata": {},
   "outputs": [],
   "source": [
    "X_train, X_test, y_train, y_test = train_test_split(data,target, test_size=0.33)\n",
    "N, D = X_train.shape"
   ]
  },
  {
   "cell_type": "code",
   "execution_count": 56,
   "metadata": {},
   "outputs": [
    {
     "data": {
      "text/plain": [
       "<module 'tensorflow.keras.optimizers' from '/Library/Python/3.7/site-packages/tensorflow/keras/optimizers/__init__.py'>"
      ]
     },
     "execution_count": 56,
     "metadata": {},
     "output_type": "execute_result"
    }
   ],
   "source": [
    "from sklearn.preprocessing import StandardScaler\n",
    "tf.keras.optimizers"
   ]
  },
  {
   "cell_type": "code",
   "execution_count": 57,
   "metadata": {},
   "outputs": [],
   "source": [
    "scaler  = StandardScaler()\n",
    "X_train = scaler.fit_transform(X_train)\n",
    "X_test  = scaler.transform(X_test) "
   ]
  },
  {
   "cell_type": "code",
   "execution_count": 70,
   "metadata": {
    "scrolled": true
   },
   "outputs": [
    {
     "name": "stdout",
     "output_type": "stream",
     "text": [
      "Epoch 1/100\n",
      "217/217 [==============================] - 0s 1ms/step - loss: 0.3931 - accuracy: 0.8833 - val_loss: 0.3607 - val_accuracy: 0.8991\n",
      "Epoch 2/100\n",
      "217/217 [==============================] - 0s 758us/step - loss: 0.3528 - accuracy: 0.9027 - val_loss: 0.3320 - val_accuracy: 0.9082\n",
      "Epoch 3/100\n",
      "217/217 [==============================] - 0s 763us/step - loss: 0.3307 - accuracy: 0.9056 - val_loss: 0.3100 - val_accuracy: 0.9082\n",
      "Epoch 4/100\n",
      "217/217 [==============================] - 0s 764us/step - loss: 0.3098 - accuracy: 0.9045 - val_loss: 0.2922 - val_accuracy: 0.9137\n",
      "Epoch 5/100\n",
      "217/217 [==============================] - 0s 788us/step - loss: 0.2869 - accuracy: 0.9144 - val_loss: 0.2773 - val_accuracy: 0.9155\n",
      "Epoch 6/100\n",
      "217/217 [==============================] - 0s 763us/step - loss: 0.2715 - accuracy: 0.9195 - val_loss: 0.2642 - val_accuracy: 0.9172\n",
      "Epoch 7/100\n",
      "217/217 [==============================] - 0s 756us/step - loss: 0.2583 - accuracy: 0.9183 - val_loss: 0.2527 - val_accuracy: 0.9202\n",
      "Epoch 8/100\n",
      "217/217 [==============================] - 0s 765us/step - loss: 0.2490 - accuracy: 0.9204 - val_loss: 0.2425 - val_accuracy: 0.9225\n",
      "Epoch 9/100\n",
      "217/217 [==============================] - 0s 738us/step - loss: 0.2394 - accuracy: 0.9258 - val_loss: 0.2334 - val_accuracy: 0.9275\n",
      "Epoch 10/100\n",
      "217/217 [==============================] - 0s 770us/step - loss: 0.2235 - accuracy: 0.9367 - val_loss: 0.2251 - val_accuracy: 0.9295\n",
      "Epoch 11/100\n",
      "217/217 [==============================] - 0s 825us/step - loss: 0.2211 - accuracy: 0.9319 - val_loss: 0.2176 - val_accuracy: 0.9330\n",
      "Epoch 12/100\n",
      "217/217 [==============================] - 0s 752us/step - loss: 0.2205 - accuracy: 0.9270 - val_loss: 0.2107 - val_accuracy: 0.9357\n",
      "Epoch 13/100\n",
      "217/217 [==============================] - 0s 750us/step - loss: 0.2083 - accuracy: 0.9331 - val_loss: 0.2045 - val_accuracy: 0.9377\n",
      "Epoch 14/100\n",
      "217/217 [==============================] - 0s 774us/step - loss: 0.2099 - accuracy: 0.9277 - val_loss: 0.1987 - val_accuracy: 0.9400\n",
      "Epoch 15/100\n",
      "217/217 [==============================] - 0s 751us/step - loss: 0.2008 - accuracy: 0.9307 - val_loss: 0.1934 - val_accuracy: 0.9409\n",
      "Epoch 16/100\n",
      "217/217 [==============================] - 0s 745us/step - loss: 0.1952 - accuracy: 0.9359 - val_loss: 0.1885 - val_accuracy: 0.9430\n",
      "Epoch 17/100\n",
      "217/217 [==============================] - 0s 774us/step - loss: 0.1898 - accuracy: 0.9346 - val_loss: 0.1840 - val_accuracy: 0.9438\n",
      "Epoch 18/100\n",
      "217/217 [==============================] - 0s 776us/step - loss: 0.1802 - accuracy: 0.9426 - val_loss: 0.1798 - val_accuracy: 0.9447\n",
      "Epoch 19/100\n",
      "217/217 [==============================] - 0s 760us/step - loss: 0.1823 - accuracy: 0.9366 - val_loss: 0.1759 - val_accuracy: 0.9471\n",
      "Epoch 20/100\n",
      "217/217 [==============================] - 0s 739us/step - loss: 0.1842 - accuracy: 0.9359 - val_loss: 0.1723 - val_accuracy: 0.9474\n",
      "Epoch 21/100\n",
      "217/217 [==============================] - 0s 744us/step - loss: 0.1709 - accuracy: 0.9457 - val_loss: 0.1689 - val_accuracy: 0.9476\n",
      "Epoch 22/100\n",
      "217/217 [==============================] - 0s 742us/step - loss: 0.1697 - accuracy: 0.9420 - val_loss: 0.1658 - val_accuracy: 0.9488\n",
      "Epoch 23/100\n",
      "217/217 [==============================] - 0s 751us/step - loss: 0.1611 - accuracy: 0.9476 - val_loss: 0.1628 - val_accuracy: 0.9497\n",
      "Epoch 24/100\n",
      "217/217 [==============================] - 0s 777us/step - loss: 0.1610 - accuracy: 0.9458 - val_loss: 0.1601 - val_accuracy: 0.9494\n",
      "Epoch 25/100\n",
      "217/217 [==============================] - 0s 765us/step - loss: 0.1541 - accuracy: 0.9504 - val_loss: 0.1575 - val_accuracy: 0.9485\n",
      "Epoch 26/100\n",
      "217/217 [==============================] - 0s 741us/step - loss: 0.1602 - accuracy: 0.9462 - val_loss: 0.1552 - val_accuracy: 0.9488\n",
      "Epoch 27/100\n",
      "217/217 [==============================] - 0s 747us/step - loss: 0.1618 - accuracy: 0.9414 - val_loss: 0.1529 - val_accuracy: 0.9497\n",
      "Epoch 28/100\n",
      "217/217 [==============================] - 0s 747us/step - loss: 0.1526 - accuracy: 0.9458 - val_loss: 0.1508 - val_accuracy: 0.9497\n",
      "Epoch 29/100\n",
      "217/217 [==============================] - 0s 764us/step - loss: 0.1485 - accuracy: 0.9532 - val_loss: 0.1489 - val_accuracy: 0.9500\n",
      "Epoch 30/100\n",
      "217/217 [==============================] - 0s 753us/step - loss: 0.1525 - accuracy: 0.9481 - val_loss: 0.1470 - val_accuracy: 0.9512\n",
      "Epoch 31/100\n",
      "217/217 [==============================] - 0s 742us/step - loss: 0.1428 - accuracy: 0.9538 - val_loss: 0.1453 - val_accuracy: 0.9503\n",
      "Epoch 32/100\n",
      "217/217 [==============================] - 0s 743us/step - loss: 0.1432 - accuracy: 0.9501 - val_loss: 0.1437 - val_accuracy: 0.9506\n",
      "Epoch 33/100\n",
      "217/217 [==============================] - 0s 754us/step - loss: 0.1441 - accuracy: 0.9509 - val_loss: 0.1422 - val_accuracy: 0.9512\n",
      "Epoch 34/100\n",
      "217/217 [==============================] - 0s 760us/step - loss: 0.1345 - accuracy: 0.9538 - val_loss: 0.1408 - val_accuracy: 0.9514\n",
      "Epoch 35/100\n",
      "217/217 [==============================] - 0s 768us/step - loss: 0.1463 - accuracy: 0.9473 - val_loss: 0.1395 - val_accuracy: 0.9523\n",
      "Epoch 36/100\n",
      "217/217 [==============================] - 0s 759us/step - loss: 0.1391 - accuracy: 0.9514 - val_loss: 0.1383 - val_accuracy: 0.9535\n",
      "Epoch 37/100\n",
      "217/217 [==============================] - 0s 844us/step - loss: 0.1391 - accuracy: 0.9497 - val_loss: 0.1372 - val_accuracy: 0.9535\n",
      "Epoch 38/100\n",
      "217/217 [==============================] - 0s 946us/step - loss: 0.1364 - accuracy: 0.9507 - val_loss: 0.1361 - val_accuracy: 0.9538\n",
      "Epoch 39/100\n",
      "217/217 [==============================] - 0s 860us/step - loss: 0.1370 - accuracy: 0.9535 - val_loss: 0.1351 - val_accuracy: 0.9538\n",
      "Epoch 40/100\n",
      "217/217 [==============================] - 0s 764us/step - loss: 0.1341 - accuracy: 0.9547 - val_loss: 0.1342 - val_accuracy: 0.9538\n",
      "Epoch 41/100\n",
      "217/217 [==============================] - 0s 796us/step - loss: 0.1356 - accuracy: 0.9480 - val_loss: 0.1333 - val_accuracy: 0.9541\n",
      "Epoch 42/100\n",
      "217/217 [==============================] - 0s 763us/step - loss: 0.1384 - accuracy: 0.9477 - val_loss: 0.1325 - val_accuracy: 0.9541\n",
      "Epoch 43/100\n",
      "217/217 [==============================] - 0s 745us/step - loss: 0.1310 - accuracy: 0.9523 - val_loss: 0.1318 - val_accuracy: 0.9544\n",
      "Epoch 44/100\n",
      "217/217 [==============================] - 0s 738us/step - loss: 0.1329 - accuracy: 0.9508 - val_loss: 0.1311 - val_accuracy: 0.9544\n",
      "Epoch 45/100\n",
      "217/217 [==============================] - 0s 752us/step - loss: 0.1282 - accuracy: 0.9554 - val_loss: 0.1305 - val_accuracy: 0.9544\n",
      "Epoch 46/100\n",
      "217/217 [==============================] - 0s 741us/step - loss: 0.1280 - accuracy: 0.9546 - val_loss: 0.1299 - val_accuracy: 0.9538\n",
      "Epoch 47/100\n",
      "217/217 [==============================] - 0s 776us/step - loss: 0.1290 - accuracy: 0.9549 - val_loss: 0.1293 - val_accuracy: 0.9541\n",
      "Epoch 48/100\n",
      "217/217 [==============================] - 0s 745us/step - loss: 0.1322 - accuracy: 0.9494 - val_loss: 0.1288 - val_accuracy: 0.9541\n",
      "Epoch 49/100\n",
      "217/217 [==============================] - 0s 748us/step - loss: 0.1256 - accuracy: 0.9555 - val_loss: 0.1283 - val_accuracy: 0.9544\n",
      "Epoch 50/100\n",
      "217/217 [==============================] - 0s 779us/step - loss: 0.1258 - accuracy: 0.9539 - val_loss: 0.1279 - val_accuracy: 0.9547\n",
      "Epoch 51/100\n",
      "217/217 [==============================] - 0s 749us/step - loss: 0.1269 - accuracy: 0.9540 - val_loss: 0.1275 - val_accuracy: 0.9547\n",
      "Epoch 52/100\n",
      "217/217 [==============================] - 0s 745us/step - loss: 0.1244 - accuracy: 0.9567 - val_loss: 0.1271 - val_accuracy: 0.9547\n",
      "Epoch 53/100\n",
      "217/217 [==============================] - 0s 790us/step - loss: 0.1273 - accuracy: 0.9518 - val_loss: 0.1267 - val_accuracy: 0.9547\n",
      "Epoch 54/100\n",
      "217/217 [==============================] - 0s 786us/step - loss: 0.1218 - accuracy: 0.9520 - val_loss: 0.1264 - val_accuracy: 0.9544\n",
      "Epoch 55/100\n",
      "217/217 [==============================] - 0s 767us/step - loss: 0.1266 - accuracy: 0.9542 - val_loss: 0.1260 - val_accuracy: 0.9547\n",
      "Epoch 56/100\n",
      "217/217 [==============================] - 0s 736us/step - loss: 0.1256 - accuracy: 0.9559 - val_loss: 0.1257 - val_accuracy: 0.9547\n",
      "Epoch 57/100\n"
     ]
    },
    {
     "name": "stdout",
     "output_type": "stream",
     "text": [
      "217/217 [==============================] - 0s 746us/step - loss: 0.1301 - accuracy: 0.9525 - val_loss: 0.1254 - val_accuracy: 0.9547\n",
      "Epoch 58/100\n",
      "217/217 [==============================] - 0s 741us/step - loss: 0.1232 - accuracy: 0.9532 - val_loss: 0.1251 - val_accuracy: 0.9547\n",
      "Epoch 59/100\n",
      "217/217 [==============================] - 0s 745us/step - loss: 0.1267 - accuracy: 0.9554 - val_loss: 0.1249 - val_accuracy: 0.9547\n",
      "Epoch 60/100\n",
      "217/217 [==============================] - 0s 746us/step - loss: 0.1238 - accuracy: 0.9573 - val_loss: 0.1246 - val_accuracy: 0.9550\n",
      "Epoch 61/100\n",
      "217/217 [==============================] - 0s 771us/step - loss: 0.1265 - accuracy: 0.9527 - val_loss: 0.1244 - val_accuracy: 0.9550\n",
      "Epoch 62/100\n",
      "217/217 [==============================] - 0s 768us/step - loss: 0.1221 - accuracy: 0.9574 - val_loss: 0.1242 - val_accuracy: 0.9547\n",
      "Epoch 63/100\n",
      "217/217 [==============================] - 0s 739us/step - loss: 0.1230 - accuracy: 0.9572 - val_loss: 0.1240 - val_accuracy: 0.9550\n",
      "Epoch 64/100\n",
      "217/217 [==============================] - 0s 762us/step - loss: 0.1204 - accuracy: 0.9582 - val_loss: 0.1238 - val_accuracy: 0.9553\n",
      "Epoch 65/100\n",
      "217/217 [==============================] - 0s 757us/step - loss: 0.1225 - accuracy: 0.9527 - val_loss: 0.1236 - val_accuracy: 0.9553\n",
      "Epoch 66/100\n",
      "217/217 [==============================] - 0s 747us/step - loss: 0.1235 - accuracy: 0.9563 - val_loss: 0.1235 - val_accuracy: 0.9553\n",
      "Epoch 67/100\n",
      "217/217 [==============================] - 0s 748us/step - loss: 0.1201 - accuracy: 0.9577 - val_loss: 0.1233 - val_accuracy: 0.9553\n",
      "Epoch 68/100\n",
      "217/217 [==============================] - 0s 747us/step - loss: 0.1284 - accuracy: 0.9534 - val_loss: 0.1231 - val_accuracy: 0.9547\n",
      "Epoch 69/100\n",
      "217/217 [==============================] - 0s 744us/step - loss: 0.1143 - accuracy: 0.9572 - val_loss: 0.1230 - val_accuracy: 0.9550\n",
      "Epoch 70/100\n",
      "217/217 [==============================] - 0s 769us/step - loss: 0.1257 - accuracy: 0.9528 - val_loss: 0.1229 - val_accuracy: 0.9553\n",
      "Epoch 71/100\n",
      "217/217 [==============================] - 0s 797us/step - loss: 0.1221 - accuracy: 0.9542 - val_loss: 0.1227 - val_accuracy: 0.9550\n",
      "Epoch 72/100\n",
      "217/217 [==============================] - 0s 764us/step - loss: 0.1209 - accuracy: 0.9559 - val_loss: 0.1226 - val_accuracy: 0.9547\n",
      "Epoch 73/100\n",
      "217/217 [==============================] - 0s 746us/step - loss: 0.1175 - accuracy: 0.9592 - val_loss: 0.1225 - val_accuracy: 0.9547\n",
      "Epoch 74/100\n",
      "217/217 [==============================] - 0s 769us/step - loss: 0.1253 - accuracy: 0.9531 - val_loss: 0.1224 - val_accuracy: 0.9547\n",
      "Epoch 75/100\n",
      "217/217 [==============================] - 0s 755us/step - loss: 0.1231 - accuracy: 0.9531 - val_loss: 0.1223 - val_accuracy: 0.9547\n",
      "Epoch 76/100\n",
      "217/217 [==============================] - 0s 764us/step - loss: 0.1159 - accuracy: 0.9589 - val_loss: 0.1222 - val_accuracy: 0.9547\n",
      "Epoch 77/100\n",
      "217/217 [==============================] - 0s 776us/step - loss: 0.1167 - accuracy: 0.9558 - val_loss: 0.1221 - val_accuracy: 0.9547\n",
      "Epoch 78/100\n",
      "217/217 [==============================] - 0s 750us/step - loss: 0.1244 - accuracy: 0.9519 - val_loss: 0.1220 - val_accuracy: 0.9547\n",
      "Epoch 79/100\n",
      "217/217 [==============================] - 0s 746us/step - loss: 0.1146 - accuracy: 0.9587 - val_loss: 0.1219 - val_accuracy: 0.9547\n",
      "Epoch 80/100\n",
      "217/217 [==============================] - 0s 741us/step - loss: 0.1284 - accuracy: 0.9539 - val_loss: 0.1218 - val_accuracy: 0.9547\n",
      "Epoch 81/100\n",
      "217/217 [==============================] - 0s 728us/step - loss: 0.1215 - accuracy: 0.9543 - val_loss: 0.1217 - val_accuracy: 0.9547\n",
      "Epoch 82/100\n",
      "217/217 [==============================] - 0s 759us/step - loss: 0.1220 - accuracy: 0.9575 - val_loss: 0.1217 - val_accuracy: 0.9547\n",
      "Epoch 83/100\n",
      "217/217 [==============================] - 0s 774us/step - loss: 0.1173 - accuracy: 0.9585 - val_loss: 0.1216 - val_accuracy: 0.9547\n",
      "Epoch 84/100\n",
      "217/217 [==============================] - 0s 774us/step - loss: 0.1199 - accuracy: 0.9556 - val_loss: 0.1215 - val_accuracy: 0.9547\n",
      "Epoch 85/100\n",
      "217/217 [==============================] - 0s 751us/step - loss: 0.1210 - accuracy: 0.9549 - val_loss: 0.1215 - val_accuracy: 0.9547\n",
      "Epoch 86/100\n",
      "217/217 [==============================] - 0s 741us/step - loss: 0.1206 - accuracy: 0.9538 - val_loss: 0.1214 - val_accuracy: 0.9544\n",
      "Epoch 87/100\n",
      "217/217 [==============================] - 0s 745us/step - loss: 0.1207 - accuracy: 0.9550 - val_loss: 0.1214 - val_accuracy: 0.9547\n",
      "Epoch 88/100\n",
      "217/217 [==============================] - 0s 745us/step - loss: 0.1233 - accuracy: 0.9561 - val_loss: 0.1213 - val_accuracy: 0.9550\n",
      "Epoch 89/100\n",
      "217/217 [==============================] - 0s 780us/step - loss: 0.1218 - accuracy: 0.9530 - val_loss: 0.1213 - val_accuracy: 0.9550\n",
      "Epoch 90/100\n",
      "217/217 [==============================] - 0s 743us/step - loss: 0.1245 - accuracy: 0.9511 - val_loss: 0.1212 - val_accuracy: 0.9547\n",
      "Epoch 91/100\n",
      "217/217 [==============================] - 0s 783us/step - loss: 0.1214 - accuracy: 0.9504 - val_loss: 0.1212 - val_accuracy: 0.9547\n",
      "Epoch 92/100\n",
      "217/217 [==============================] - 0s 739us/step - loss: 0.1225 - accuracy: 0.9532 - val_loss: 0.1211 - val_accuracy: 0.9547\n",
      "Epoch 93/100\n",
      "217/217 [==============================] - 0s 770us/step - loss: 0.1177 - accuracy: 0.9526 - val_loss: 0.1211 - val_accuracy: 0.9547\n",
      "Epoch 94/100\n",
      "217/217 [==============================] - 0s 771us/step - loss: 0.1176 - accuracy: 0.9527 - val_loss: 0.1210 - val_accuracy: 0.9547\n",
      "Epoch 95/100\n",
      "217/217 [==============================] - 0s 2ms/step - loss: 0.1216 - accuracy: 0.9538 - val_loss: 0.1210 - val_accuracy: 0.9544\n",
      "Epoch 96/100\n",
      "217/217 [==============================] - 0s 744us/step - loss: 0.1137 - accuracy: 0.9547 - val_loss: 0.1210 - val_accuracy: 0.9541\n",
      "Epoch 97/100\n",
      "217/217 [==============================] - 0s 740us/step - loss: 0.1174 - accuracy: 0.9537 - val_loss: 0.1209 - val_accuracy: 0.9541\n",
      "Epoch 98/100\n",
      "217/217 [==============================] - 0s 747us/step - loss: 0.1236 - accuracy: 0.9531 - val_loss: 0.1209 - val_accuracy: 0.9544\n",
      "Epoch 99/100\n",
      "217/217 [==============================] - 0s 772us/step - loss: 0.1204 - accuracy: 0.9532 - val_loss: 0.1209 - val_accuracy: 0.9541\n",
      "Epoch 100/100\n",
      "217/217 [==============================] - 0s 768us/step - loss: 0.1143 - accuracy: 0.9564 - val_loss: 0.1208 - val_accuracy: 0.9544\n",
      "217/217 [==============================] - 0s 382us/step - loss: 0.1196 - accuracy: 0.9546\n",
      "Train score: [0.11957033723592758, 0.9546109437942505]\n",
      "107/107 [==============================] - 0s 413us/step - loss: 0.1208 - accuracy: 0.9544\n",
      "Test score: [0.12081047892570496, 0.9543726444244385]\n"
     ]
    }
   ],
   "source": [
    "model = tf.keras.models.Sequential([\n",
    "    tf.keras.layers.Input(shape=(D,)),\n",
    "    tf.keras.layers.Dense(1,activation='sigmoid')\n",
    "])\n",
    "\n",
    "model.compile(optimizer=\"adam\",\n",
    "             loss=\"binary_crossentropy\",\n",
    "             metrics=[\"accuracy\"])\n",
    "\n",
    "r = model.fit(X_train, y_train, validation_data=(X_test,y_test),epochs=100)\n",
    "\n",
    "print(\"Train score:\",model.evaluate(X_train,y_train))\n",
    "print(\"Test score:\",model.evaluate(X_test,y_test))"
   ]
  },
  {
   "cell_type": "code",
   "execution_count": 71,
   "metadata": {},
   "outputs": [
    {
     "data": {
      "text/plain": [
       "<matplotlib.legend.Legend at 0x158a1bf28>"
      ]
     },
     "execution_count": 71,
     "metadata": {},
     "output_type": "execute_result"
    },
    {
     "data": {
      "image/png": "[encoded data removed]",
      "text/plain": [
       "<Figure size 432x288 with 1 Axes>"
      ]
     },
     "metadata": {
      "needs_background": "light"
     },
     "output_type": "display_data"
    }
   ],
   "source": [
    "plt.plot(r.history[\"loss\"],label=\"loss\")\n",
    "plt.plot(r.history[\"val_loss\"],label=\"val_loss\")\n",
    "plt.legend()"
   ]
  },
  {
   "cell_type": "code",
   "execution_count": 60,
   "metadata": {},
   "outputs": [
    {
     "data": {
      "text/plain": [
       "<matplotlib.legend.Legend at 0x150310a90>"
      ]
     },
     "execution_count": 60,
     "metadata": {},
     "output_type": "execute_result"
    },
    {
     "data": {
      "image/png": "[encoded data removed]",
      "text/plain": [
       "<Figure size 432x288 with 1 Axes>"
      ]
     },
     "metadata": {
      "needs_background": "light"
     },
     "output_type": "display_data"
    }
   ],
   "source": [
    "plt.plot(r.history[\"accuracy\"],label=\"acc\")\n",
    "plt.plot(r.history[\"val_accuracy\"],label=\"val_acc\")\n",
    "plt.legend()"
   ]
  },
  {
   "cell_type": "code",
   "execution_count": 61,
   "metadata": {},
   "outputs": [
    {
     "data": {
      "text/plain": [
       "array([[-1.85093679,  3.15488184],\n",
       "       [-1.80323712,  3.14652638],\n",
       "       [-1.78513546,  3.14162325],\n",
       "       ...,\n",
       "       [-0.38599103, -1.31094853],\n",
       "       [-0.38928733, -1.39389632],\n",
       "       [-0.46017693, -1.40857491]])"
      ]
     },
     "execution_count": 61,
     "metadata": {},
     "output_type": "execute_result"
    }
   ],
   "source": [
    "x=np.array([[24.45912869, 97.63675648]])\n",
    "x = scaler.transform(data)\n",
    "x"
   ]
  },
  {
   "cell_type": "code",
   "execution_count": 62,
   "metadata": {},
   "outputs": [],
   "source": [
    "predicho = model.predict(x)"
   ]
  },
  {
   "cell_type": "code",
   "execution_count": 63,
   "metadata": {},
   "outputs": [
    {
     "data": {
      "text/plain": [
       "array([[-1.85093679,  3.15488184],\n",
       "       [-1.80323712,  3.14652638],\n",
       "       [-1.78513546,  3.14162325],\n",
       "       ...,\n",
       "       [-0.38599103, -1.31094853],\n",
       "       [-0.38928733, -1.39389632],\n",
       "       [-0.46017693, -1.40857491]])"
      ]
     },
     "execution_count": 63,
     "metadata": {},
     "output_type": "execute_result"
    }
   ],
   "source": [
    "x"
   ]
  },
  {
   "cell_type": "code",
   "execution_count": 43,
   "metadata": {},
   "outputs": [],
   "source": [
    "predicho = np.round(predicho)"
   ]
  },
  {
   "cell_type": "code",
   "execution_count": 64,
   "metadata": {},
   "outputs": [
    {
     "data": {
      "text/plain": [
       "<matplotlib.legend.Legend at 0x1577126a0>"
      ]
     },
     "execution_count": 64,
     "metadata": {},
     "output_type": "execute_result"
    },
    {
     "data": {
      "image/png": "[encoded data removed]",
      "text/plain": [
       "<Figure size 1008x432 with 1 Axes>"
      ]
     },
     "metadata": {
      "needs_background": "light"
     },
     "output_type": "display_data"
    }
   ],
   "source": [
    "fig, ax  = plt.subplots(figsize=(14,6))\n",
    "\n",
    "ax.plot(predicho,'ro',label=\"predicted\")\n",
    "ax.plot(target  ,'k.',label=\"target\")\n",
    "ax.legend()"
   ]
  },
  {
   "cell_type": "code",
   "execution_count": 68,
   "metadata": {},
   "outputs": [
    {
     "data": {
      "text/plain": [
       "(10359,)"
      ]
     },
     "execution_count": 68,
     "metadata": {},
     "output_type": "execute_result"
    }
   ],
   "source": [
    "target.shape"
   ]
  },
  {
   "cell_type": "code",
   "execution_count": 69,
   "metadata": {},
   "outputs": [
    {
     "data": {
      "text/plain": [
       "(10359, 1)"
      ]
     },
     "execution_count": 69,
     "metadata": {},
     "output_type": "execute_result"
    }
   ],
   "source": [
    "predicho.shape"
   ]
  },
  {
   "cell_type": "code",
   "execution_count": null,
   "metadata": {},
   "outputs": [],
   "source": [
    "# X_train"
   ]
  },
  {
   "cell_type": "code",
   "execution_count": null,
   "metadata": {},
   "outputs": [],
   "source": []
  }
 ],
 "metadata": {
  "kernelspec": {
   "display_name": "Python 3",
   "language": "python",
   "name": "python3"
  },
  "language_info": {
   "codemirror_mode": {
    "name": "ipython",
    "version": 3
   },
   "file_extension": ".py",
   "mimetype": "text/x-python",
   "name": "python",
   "nbconvert_exporter": "python",
   "pygments_lexer": "ipython3",
   "version": "3.7.3"
  }
 },
 "nbformat": 4,
 "nbformat_minor": 4
}
