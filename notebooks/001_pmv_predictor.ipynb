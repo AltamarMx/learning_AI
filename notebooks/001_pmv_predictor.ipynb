{
 "cells": [
  {
   "cell_type": "code",
   "execution_count": 1,
   "metadata": {},
   "outputs": [],
   "source": [
    "import matplotlib.pyplot as plt\n",
    "import pandas as pd\n",
    "import numpy as np\n",
    "import tensorflow as tf\n"
   ]
  },
  {
   "cell_type": "code",
   "execution_count": 2,
   "metadata": {},
   "outputs": [
    {
     "name": "stdout",
     "output_type": "stream",
     "text": [
      "(0, 'Date/Time')\n",
      "(1, 'Environment:Site Outdoor Air Drybulb Temperature [C](TimeStep)')\n",
      "(2, 'D7:Zone Mean Radiant Temperature [C](TimeStep)')\n",
      "(3, 'D7:Zone Mean Air Temperature [C](TimeStep)')\n",
      "(4, 'D7:Zone Mean Air Dewpoint Temperature [C](TimeStep)')\n",
      "(5, 'D7:AFN Zone Infiltration Volume [m3](TimeStep)')\n",
      "(6, 'D7:AFN Zone Infiltration Air Change Rate [ach](TimeStep)')\n",
      "(7, 'D7:Zone Air Relative Humidity [%](TimeStep)')\n",
      "(8, 'D7 PEOPLE:Zone Thermal Comfort Fanger Model PMV [](TimeStep)')\n",
      "(9, 'D7 PEOPLE:Zone Thermal Comfort Fanger Model PPD [%](TimeStep)')\n"
     ]
    }
   ],
   "source": [
    "nombres = np.genfromtxt(\"../data/pmv.csv\",delimiter=',',max_rows=1,dtype=\"U\")\n",
    "for i in enumerate(nombres):\n",
    "    print(i)\n",
    "    \n",
    "nombres[0] = 'tiempo'\n",
    "nombres[1] = \"To\"\n",
    "nombres[2] = 'Tr'\n",
    "nombres[3] = \"Ti\"\n",
    "nombres[4] = 'Tbh'\n",
    "nombres[5] = \"m3\"\n",
    "nombres[6] = 'ach'\n",
    "nombres[7] = \"hr\"\n",
    "nombres[8] = 'pmv'\n",
    "nombres[9] = \"ppd\""
   ]
  },
  {
   "cell_type": "code",
   "execution_count": 3,
   "metadata": {},
   "outputs": [
    {
     "data": {
      "text/plain": [
       "Index(['To', 'Tr', 'Ti', 'Tbh', 'ach', 'hr', 'target'], dtype='object')"
      ]
     },
     "execution_count": 3,
     "metadata": {},
     "output_type": "execute_result"
    }
   ],
   "source": [
    "pmv = pd.read_csv(\"../data/pmv.csv\",delimiter=\",\",names=nombres,skiprows=1)\n",
    "pmv = pmv[pmv.pmv>=0 ]\n",
    "pmv.loc[(pmv.pmv>=0)|(pmv.pmv<=0.5),\"target\"] = 0\n",
    "pmv.loc[(pmv.pmv>0.5),\"target\"] = 1\n",
    "del pmv['m3']\n",
    "del pmv['tiempo']\n",
    "del pmv['pmv']\n",
    "del pmv['ppd']\n",
    "pmv.columns"
   ]
  },
  {
   "cell_type": "code",
   "execution_count": 4,
   "metadata": {},
   "outputs": [
    {
     "data": {
      "text/plain": [
       "[<matplotlib.lines.Line2D at 0x14e633908>]"
      ]
     },
     "execution_count": 4,
     "metadata": {},
     "output_type": "execute_result"
    },
    {
     "data": {
      "image/png": "[encoded data removed]",
      "text/plain": [
       "<Figure size 432x288 with 1 Axes>"
      ]
     },
     "metadata": {
      "needs_background": "light"
     },
     "output_type": "display_data"
    }
   ],
   "source": [
    "# pmv.target.plot()\n",
    "fig, ax = plt.subplots()\n",
    "\n",
    "ax.plot(pmv.target,\"r.\")"
   ]
  },
  {
   "cell_type": "code",
   "execution_count": 53,
   "metadata": {},
   "outputs": [],
   "source": [
    "data   = np.array(pmv[[ 'Ti', 'hr']])\n",
    "target = np.array(pmv.target,dtype=int)\n"
   ]
  },
  {
   "cell_type": "code",
   "execution_count": 54,
   "metadata": {},
   "outputs": [],
   "source": [
    "from sklearn.model_selection import train_test_split"
   ]
  },
  {
   "cell_type": "code",
   "execution_count": 55,
   "metadata": {},
   "outputs": [],
   "source": [
    "X_train, X_test, y_train, y_test = train_test_split(data,target, test_size=0.33)\n",
    "N, D = X_train.shape"
   ]
  },
  {
   "cell_type": "code",
   "execution_count": 56,
   "metadata": {},
   "outputs": [
    {
     "data": {
      "text/plain": [
       "<module 'tensorflow.keras.optimizers' from '/Library/Python/3.7/site-packages/tensorflow/keras/optimizers/__init__.py'>"
      ]
     },
     "execution_count": 56,
     "metadata": {},
     "output_type": "execute_result"
    }
   ],
   "source": [
    "from sklearn.preprocessing import StandardScaler\n",
    "tf.keras.optimizers"
   ]
  },
  {
   "cell_type": "code",
   "execution_count": 57,
   "metadata": {},
   "outputs": [],
   "source": [
    "scaler  = StandardScaler()\n",
    "X_train = scaler.fit_transform(X_train)\n",
    "X_test  = scaler.transform(X_test) "
   ]
  },
  {
   "cell_type": "code",
   "execution_count": null,
   "metadata": {
    "scrolled": true
   },
   "outputs": [
    {
     "name": "stdout",
     "output_type": "stream",
     "text": [
      "Epoch 1/100\n",
      "217/217 [==============================] - 0s 1ms/step - loss: 1.2710 - accuracy: 0.1868 - val_loss: 1.1104 - val_accuracy: 0.1884\n",
      "Epoch 2/100\n",
      "217/217 [==============================] - 0s 766us/step - loss: 1.0638 - accuracy: 0.1902 - val_loss: 0.9459 - val_accuracy: 0.2062\n",
      "Epoch 3/100\n",
      "217/217 [==============================] - 0s 748us/step - loss: 0.9108 - accuracy: 0.2428 - val_loss: 0.8180 - val_accuracy: 0.4364\n",
      "Epoch 4/100\n",
      "217/217 [==============================] - 0s 815us/step - loss: 0.7899 - accuracy: 0.5130 - val_loss: 0.7216 - val_accuracy: 0.5671\n",
      "Epoch 5/100\n",
      "217/217 [==============================] - 0s 741us/step - loss: 0.6995 - accuracy: 0.5765 - val_loss: 0.6489 - val_accuracy: 0.6022\n",
      "Epoch 6/100\n",
      "217/217 [==============================] - 0s 766us/step - loss: 0.6316 - accuracy: 0.6445 - val_loss: 0.5939 - val_accuracy: 0.7330\n",
      "Epoch 7/100\n",
      "217/217 [==============================] - 0s 765us/step - loss: 0.5891 - accuracy: 0.7308 - val_loss: 0.5508 - val_accuracy: 0.7730\n",
      "Epoch 8/100\n",
      "217/217 [==============================] - 0s 770us/step - loss: 0.5412 - accuracy: 0.7749 - val_loss: 0.5152 - val_accuracy: 0.7920\n",
      "Epoch 9/100\n",
      "217/217 [==============================] - 0s 742us/step - loss: 0.5081 - accuracy: 0.7955 - val_loss: 0.4848 - val_accuracy: 0.8111\n",
      "Epoch 10/100\n",
      "217/217 [==============================] - 0s 764us/step - loss: 0.4779 - accuracy: 0.8061 - val_loss: 0.4580 - val_accuracy: 0.8286\n",
      "Epoch 11/100\n",
      "217/217 [==============================] - 0s 745us/step - loss: 0.4472 - accuracy: 0.8303 - val_loss: 0.4338 - val_accuracy: 0.8409\n",
      "Epoch 12/100\n",
      "217/217 [==============================] - 0s 822us/step - loss: 0.4253 - accuracy: 0.8448 - val_loss: 0.4117 - val_accuracy: 0.8508\n",
      "Epoch 13/100\n",
      "217/217 [==============================] - 0s 781us/step - loss: 0.4112 - accuracy: 0.8463 - val_loss: 0.3915 - val_accuracy: 0.8596\n",
      "Epoch 14/100\n",
      "217/217 [==============================] - 0s 810us/step - loss: 0.3867 - accuracy: 0.8573 - val_loss: 0.3728 - val_accuracy: 0.8693\n",
      "Epoch 15/100\n",
      "217/217 [==============================] - 0s 799us/step - loss: 0.3709 - accuracy: 0.8691 - val_loss: 0.3556 - val_accuracy: 0.8798\n",
      "Epoch 16/100\n",
      "217/217 [==============================] - 0s 825us/step - loss: 0.3533 - accuracy: 0.8824 - val_loss: 0.3398 - val_accuracy: 0.8862\n",
      "Epoch 17/100\n",
      "217/217 [==============================] - 0s 787us/step - loss: 0.3386 - accuracy: 0.8848 - val_loss: 0.3251 - val_accuracy: 0.8924\n",
      "Epoch 18/100\n",
      "217/217 [==============================] - 0s 747us/step - loss: 0.3163 - accuracy: 0.8928 - val_loss: 0.3116 - val_accuracy: 0.8985\n",
      "Epoch 19/100\n",
      "217/217 [==============================] - 0s 775us/step - loss: 0.3118 - accuracy: 0.8957 - val_loss: 0.2990 - val_accuracy: 0.9038\n",
      "Epoch 20/100\n",
      "217/217 [==============================] - 0s 739us/step - loss: 0.2958 - accuracy: 0.9074 - val_loss: 0.2874 - val_accuracy: 0.9082\n",
      "Epoch 21/100\n",
      "217/217 [==============================] - 0s 743us/step - loss: 0.2906 - accuracy: 0.9031 - val_loss: 0.2767 - val_accuracy: 0.9137\n",
      "Epoch 22/100\n",
      "217/217 [==============================] - 0s 774us/step - loss: 0.2699 - accuracy: 0.9158 - val_loss: 0.2666 - val_accuracy: 0.9143\n",
      "Epoch 23/100\n",
      "217/217 [==============================] - 0s 754us/step - loss: 0.2629 - accuracy: 0.9147 - val_loss: 0.2574 - val_accuracy: 0.9161\n",
      "Epoch 24/100\n",
      "217/217 [==============================] - 0s 780us/step - loss: 0.2537 - accuracy: 0.9179 - val_loss: 0.2487 - val_accuracy: 0.9202\n",
      "Epoch 25/100\n",
      "217/217 [==============================] - 0s 766us/step - loss: 0.2478 - accuracy: 0.9216 - val_loss: 0.2406 - val_accuracy: 0.9242\n",
      "Epoch 26/100\n",
      "217/217 [==============================] - 0s 743us/step - loss: 0.2415 - accuracy: 0.9212 - val_loss: 0.2331 - val_accuracy: 0.9275\n",
      "Epoch 27/100\n",
      "217/217 [==============================] - 0s 750us/step - loss: 0.2325 - accuracy: 0.9256 - val_loss: 0.2261 - val_accuracy: 0.9295\n",
      "Epoch 28/100\n",
      "217/217 [==============================] - 0s 769us/step - loss: 0.2255 - accuracy: 0.9254 - val_loss: 0.2195 - val_accuracy: 0.9316\n",
      "Epoch 29/100\n",
      "217/217 [==============================] - 0s 769us/step - loss: 0.2145 - accuracy: 0.9311 - val_loss: 0.2132 - val_accuracy: 0.9348\n",
      "Epoch 30/100\n",
      "217/217 [==============================] - 0s 747us/step - loss: 0.2156 - accuracy: 0.9313 - val_loss: 0.2075 - val_accuracy: 0.9362\n",
      "Epoch 31/100\n",
      "217/217 [==============================] - 0s 748us/step - loss: 0.2077 - accuracy: 0.9376 - val_loss: 0.2021 - val_accuracy: 0.9389\n",
      "Epoch 32/100\n",
      "217/217 [==============================] - 0s 747us/step - loss: 0.1971 - accuracy: 0.9339 - val_loss: 0.1970 - val_accuracy: 0.9406\n",
      "Epoch 33/100\n",
      "217/217 [==============================] - 0s 742us/step - loss: 0.1969 - accuracy: 0.9365 - val_loss: 0.1923 - val_accuracy: 0.9412\n",
      "Epoch 34/100\n",
      "217/217 [==============================] - 0s 761us/step - loss: 0.1939 - accuracy: 0.9350 - val_loss: 0.1878 - val_accuracy: 0.9430\n",
      "Epoch 35/100\n",
      "217/217 [==============================] - 0s 777us/step - loss: 0.1850 - accuracy: 0.9391 - val_loss: 0.1836 - val_accuracy: 0.9444\n",
      "Epoch 36/100\n",
      "217/217 [==============================] - 0s 745us/step - loss: 0.1874 - accuracy: 0.9373 - val_loss: 0.1797 - val_accuracy: 0.9459\n",
      "Epoch 37/100\n",
      "217/217 [==============================] - 0s 747us/step - loss: 0.1759 - accuracy: 0.9418 - val_loss: 0.1760 - val_accuracy: 0.9468\n",
      "Epoch 38/100\n",
      "217/217 [==============================] - 0s 751us/step - loss: 0.1721 - accuracy: 0.9460 - val_loss: 0.1725 - val_accuracy: 0.9476\n",
      "Epoch 39/100\n",
      "217/217 [==============================] - 0s 750us/step - loss: 0.1708 - accuracy: 0.9396 - val_loss: 0.1692 - val_accuracy: 0.9482\n",
      "Epoch 40/100\n",
      "217/217 [==============================] - 0s 749us/step - loss: 0.1711 - accuracy: 0.9431 - val_loss: 0.1662 - val_accuracy: 0.9488\n",
      "Epoch 41/100\n",
      "217/217 [==============================] - 0s 758us/step - loss: 0.1601 - accuracy: 0.9470 - val_loss: 0.1633 - val_accuracy: 0.9497\n",
      "Epoch 42/100\n",
      "217/217 [==============================] - 0s 748us/step - loss: 0.1609 - accuracy: 0.9481 - val_loss: 0.1606 - val_accuracy: 0.9497\n",
      "Epoch 43/100\n",
      "217/217 [==============================] - 0s 741us/step - loss: 0.1579 - accuracy: 0.9495 - val_loss: 0.1581 - val_accuracy: 0.9485\n",
      "Epoch 44/100\n",
      "217/217 [==============================] - 0s 772us/step - loss: 0.1540 - accuracy: 0.9501 - val_loss: 0.1557 - val_accuracy: 0.9488\n",
      "Epoch 45/100\n",
      "217/217 [==============================] - 0s 785us/step - loss: 0.1608 - accuracy: 0.9455 - val_loss: 0.1535 - val_accuracy: 0.9497\n",
      "Epoch 46/100\n",
      "217/217 [==============================] - 0s 774us/step - loss: 0.1495 - accuracy: 0.9496 - val_loss: 0.1513 - val_accuracy: 0.9497\n",
      "Epoch 47/100\n",
      "217/217 [==============================] - 0s 756us/step - loss: 0.1493 - accuracy: 0.9501 - val_loss: 0.1494 - val_accuracy: 0.9506\n",
      "Epoch 48/100\n",
      "217/217 [==============================] - 0s 748us/step - loss: 0.1458 - accuracy: 0.9508 - val_loss: 0.1475 - val_accuracy: 0.9506\n",
      "Epoch 49/100\n",
      "217/217 [==============================] - 0s 770us/step - loss: 0.1474 - accuracy: 0.9483 - val_loss: 0.1458 - val_accuracy: 0.9512\n",
      "Epoch 50/100\n",
      "217/217 [==============================] - 0s 780us/step - loss: 0.1439 - accuracy: 0.9515 - val_loss: 0.1442 - val_accuracy: 0.9509\n",
      "Epoch 51/100\n",
      "107/217 [=============>................] - ETA: 0s - loss: 0.1477 - accuracy: 0.9489"
     ]
    }
   ],
   "source": [
    "model = tf.keras.models.Sequential([\n",
    "    tf.keras.layers.Input(shape=(D,)),\n",
    "    tf.keras.layers.Dense(1,activation='sigmoid')\n",
    "])\n",
    "\n",
    "model.compile(optimizer=\"adam\",\n",
    "             loss=\"binary_crossentropy\",\n",
    "             metrics=[\"accuracy\"])\n",
    "\n",
    "r = model.fit(X_train, y_train, validation_data=(X_test,y_test),epochs=100)\n",
    "\n",
    "print(\"Train score:\",model.evaluate(X_train,y_train))\n",
    "print(\"Test score:\",model.evaluate(X_test,y_test))"
   ]
  },
  {
   "cell_type": "code",
   "execution_count": null,
   "metadata": {},
   "outputs": [],
   "source": [
    "plt.plot(r.history[\"loss\"],label=\"loss\")\n",
    "plt.plot(r.history[\"val_loss\"],label=\"val_loss\")\n",
    "plt.legend()"
   ]
  },
  {
   "cell_type": "code",
   "execution_count": null,
   "metadata": {},
   "outputs": [],
   "source": [
    "plt.plot(r.history[\"accuracy\"],label=\"acc\")\n",
    "plt.plot(r.history[\"val_accuracy\"],label=\"val_acc\")\n",
    "plt.legend()"
   ]
  },
  {
   "cell_type": "code",
   "execution_count": null,
   "metadata": {},
   "outputs": [],
   "source": [
    "x=np.array([[24.45912869, 97.63675648]])\n",
    "x = scaler.transform(data)\n",
    "x"
   ]
  },
  {
   "cell_type": "code",
   "execution_count": null,
   "metadata": {},
   "outputs": [],
   "source": [
    "predicho = model.predict(x)"
   ]
  },
  {
   "cell_type": "code",
   "execution_count": null,
   "metadata": {},
   "outputs": [],
   "source": [
    "x"
   ]
  },
  {
   "cell_type": "code",
   "execution_count": null,
   "metadata": {},
   "outputs": [],
   "source": [
    "predicho = np.round(predicho)"
   ]
  },
  {
   "cell_type": "code",
   "execution_count": null,
   "metadata": {},
   "outputs": [],
   "source": [
    "fig, ax  = plt.subplots(figsize=(14,6))\n",
    "\n",
    "ax.plot(predicho,'ro',label=\"predicted\")\n",
    "ax.plot(target  ,'k.',label=\"target\")\n",
    "ax.legend()"
   ]
  },
  {
   "cell_type": "code",
   "execution_count": 68,
   "metadata": {},
   "outputs": [
    {
     "data": {
      "text/plain": [
       "(10359,)"
      ]
     },
     "execution_count": 68,
     "metadata": {},
     "output_type": "execute_result"
    }
   ],
   "source": [
    "target.shape"
   ]
  },
  {
   "cell_type": "code",
   "execution_count": 69,
   "metadata": {},
   "outputs": [
    {
     "data": {
      "text/plain": [
       "(10359, 1)"
      ]
     },
     "execution_count": 69,
     "metadata": {},
     "output_type": "execute_result"
    }
   ],
   "source": [
    "predicho.shape"
   ]
  },
  {
   "cell_type": "code",
   "execution_count": null,
   "metadata": {},
   "outputs": [],
   "source": [
    "# X_train"
   ]
  },
  {
   "cell_type": "code",
   "execution_count": null,
   "metadata": {},
   "outputs": [],
   "source": []
  }
 ],
 "metadata": {
  "kernelspec": {
   "display_name": "Python 3",
   "language": "python",
   "name": "python3"
  },
  "language_info": {
   "codemirror_mode": {
    "name": "ipython",
    "version": 3
   },
   "file_extension": ".py",
   "mimetype": "text/x-python",
   "name": "python",
   "nbconvert_exporter": "python",
   "pygments_lexer": "ipython3",
   "version": "3.7.3"
  }
 },
 "nbformat": 4,
 "nbformat_minor": 4
}
