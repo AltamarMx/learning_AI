{
 "cells": [
  {
   "cell_type": "code",
   "execution_count": 1,
   "metadata": {},
   "outputs": [],
   "source": [
    "import matplotlib.pyplot as plt\n",
    "import pandas as pd\n",
    "import numpy as np\n",
    "import tensorflow as tf\n"
   ]
  },
  {
   "cell_type": "code",
   "execution_count": 2,
   "metadata": {},
   "outputs": [
    {
     "name": "stdout",
     "output_type": "stream",
     "text": [
      "(0, 'Date/Time')\n",
      "(1, 'Environment:Site Outdoor Air Drybulb Temperature [C](TimeStep)')\n",
      "(2, 'D7:Zone Mean Radiant Temperature [C](TimeStep)')\n",
      "(3, 'D7:Zone Mean Air Temperature [C](TimeStep)')\n",
      "(4, 'D7:Zone Mean Air Dewpoint Temperature [C](TimeStep)')\n",
      "(5, 'D7:AFN Zone Infiltration Volume [m3](TimeStep)')\n",
      "(6, 'D7:AFN Zone Infiltration Air Change Rate [ach](TimeStep)')\n",
      "(7, 'D7:Zone Air Relative Humidity [%](TimeStep)')\n",
      "(8, 'D7 PEOPLE:Zone Thermal Comfort Fanger Model PMV [](TimeStep)')\n",
      "(9, 'D7 PEOPLE:Zone Thermal Comfort Fanger Model PPD [%](TimeStep)')\n"
     ]
    }
   ],
   "source": [
    "nombres = np.genfromtxt(\"../data/pmv.csv\",delimiter=',',max_rows=1,dtype=\"U\")\n",
    "for i in enumerate(nombres):\n",
    "    print(i)\n",
    "    \n",
    "nombres[0] = 'tiempo'\n",
    "nombres[1] = \"To\"\n",
    "nombres[2] = 'Tr'\n",
    "nombres[3] = \"Ti\"\n",
    "nombres[4] = 'Tbh'\n",
    "nombres[5] = \"m3\"\n",
    "nombres[6] = 'ach'\n",
    "nombres[7] = \"hr\"\n",
    "nombres[8] = 'pmv'\n",
    "nombres[9] = \"ppd\""
   ]
  },
  {
   "cell_type": "code",
   "execution_count": 3,
   "metadata": {},
   "outputs": [
    {
     "data": {
      "text/plain": [
       "Index(['To', 'Tr', 'Ti', 'Tbh', 'ach', 'hr', 'target'], dtype='object')"
      ]
     },
     "execution_count": 3,
     "metadata": {},
     "output_type": "execute_result"
    }
   ],
   "source": [
    "pmv = pd.read_csv(\"../data/pmv.csv\",delimiter=\",\",names=nombres,skiprows=1)\n",
    "pmv = pmv[pmv.pmv>=0 ]\n",
    "pmv.loc[(pmv.pmv>=0)|(pmv.pmv<=0.5),\"target\"] = 0\n",
    "pmv.loc[(pmv.pmv>0.5),\"target\"] = 1\n",
    "del pmv['m3']\n",
    "del pmv['tiempo']\n",
    "del pmv['pmv']\n",
    "del pmv['ppd']\n",
    "pmv.columns"
   ]
  },
  {
   "cell_type": "code",
   "execution_count": 4,
   "metadata": {},
   "outputs": [
    {
     "data": {
      "text/plain": [
       "[<matplotlib.lines.Line2D at 0x14e633908>]"
      ]
     },
     "execution_count": 4,
     "metadata": {},
     "output_type": "execute_result"
    },
    {
     "data": {
      "image/png": "[encoded data removed]",
      "text/plain": [
       "<Figure size 432x288 with 1 Axes>"
      ]
     },
     "metadata": {
      "needs_background": "light"
     },
     "output_type": "display_data"
    }
   ],
   "source": [
    "# pmv.target.plot()\n",
    "fig, ax = plt.subplots()\n",
    "\n",
    "ax.plot(pmv.target,\"r.\")"
   ]
  },
  {
   "cell_type": "code",
   "execution_count": 53,
   "metadata": {},
   "outputs": [],
   "source": [
    "data   = np.array(pmv[[ 'Ti', 'hr']])\n",
    "target = np.array(pmv.target,dtype=int)\n"
   ]
  },
  {
   "cell_type": "code",
   "execution_count": 54,
   "metadata": {},
   "outputs": [],
   "source": [
    "from sklearn.model_selection import train_test_split"
   ]
  },
  {
   "cell_type": "code",
   "execution_count": 55,
   "metadata": {},
   "outputs": [],
   "source": [
    "X_train, X_test, y_train, y_test = train_test_split(data,target, test_size=0.33)\n",
    "N, D = X_train.shape"
   ]
  },
  {
   "cell_type": "code",
   "execution_count": 56,
   "metadata": {},
   "outputs": [
    {
     "data": {
      "text/plain": [
       "<module 'tensorflow.keras.optimizers' from '/Library/Python/3.7/site-packages/tensorflow/keras/optimizers/__init__.py'>"
      ]
     },
     "execution_count": 56,
     "metadata": {},
     "output_type": "execute_result"
    }
   ],
   "source": [
    "from sklearn.preprocessing import StandardScaler\n",
    "tf.keras.optimizers"
   ]
  },
  {
   "cell_type": "code",
   "execution_count": 57,
   "metadata": {},
   "outputs": [],
   "source": [
    "scaler  = StandardScaler()\n",
    "X_train = scaler.fit_transform(X_train)\n",
    "X_test  = scaler.transform(X_test) "
   ]
  },
  {
   "cell_type": "code",
   "execution_count": 72,
   "metadata": {
    "scrolled": true
   },
   "outputs": [
    {
     "name": "stdout",
     "output_type": "stream",
     "text": [
      "Epoch 1/100\n",
      "217/217 [==============================] - 0s 1ms/step - loss: 1.2710 - accuracy: 0.1868 - val_loss: 1.1104 - val_accuracy: 0.1884\n",
      "Epoch 2/100\n",
      "217/217 [==============================] - 0s 766us/step - loss: 1.0638 - accuracy: 0.1902 - val_loss: 0.9459 - val_accuracy: 0.2062\n",
      "Epoch 3/100\n",
      "217/217 [==============================] - 0s 748us/step - loss: 0.9108 - accuracy: 0.2428 - val_loss: 0.8180 - val_accuracy: 0.4364\n",
      "Epoch 4/100\n",
      "217/217 [==============================] - 0s 815us/step - loss: 0.7899 - accuracy: 0.5130 - val_loss: 0.7216 - val_accuracy: 0.5671\n",
      "Epoch 5/100\n",
      "217/217 [==============================] - 0s 741us/step - loss: 0.6995 - accuracy: 0.5765 - val_loss: 0.6489 - val_accuracy: 0.6022\n",
      "Epoch 6/100\n",
      "217/217 [==============================] - 0s 766us/step - loss: 0.6316 - accuracy: 0.6445 - val_loss: 0.5939 - val_accuracy: 0.7330\n",
      "Epoch 7/100\n",
      "217/217 [==============================] - 0s 765us/step - loss: 0.5891 - accuracy: 0.7308 - val_loss: 0.5508 - val_accuracy: 0.7730\n",
      "Epoch 8/100\n",
      "217/217 [==============================] - 0s 770us/step - loss: 0.5412 - accuracy: 0.7749 - val_loss: 0.5152 - val_accuracy: 0.7920\n",
      "Epoch 9/100\n",
      "217/217 [==============================] - 0s 742us/step - loss: 0.5081 - accuracy: 0.7955 - val_loss: 0.4848 - val_accuracy: 0.8111\n",
      "Epoch 10/100\n",
      "217/217 [==============================] - 0s 764us/step - loss: 0.4779 - accuracy: 0.8061 - val_loss: 0.4580 - val_accuracy: 0.8286\n",
      "Epoch 11/100\n",
      "217/217 [==============================] - 0s 745us/step - loss: 0.4472 - accuracy: 0.8303 - val_loss: 0.4338 - val_accuracy: 0.8409\n",
      "Epoch 12/100\n",
      "217/217 [==============================] - 0s 822us/step - loss: 0.4253 - accuracy: 0.8448 - val_loss: 0.4117 - val_accuracy: 0.8508\n",
      "Epoch 13/100\n",
      "217/217 [==============================] - 0s 781us/step - loss: 0.4112 - accuracy: 0.8463 - val_loss: 0.3915 - val_accuracy: 0.8596\n",
      "Epoch 14/100\n",
      "217/217 [==============================] - 0s 810us/step - loss: 0.3867 - accuracy: 0.8573 - val_loss: 0.3728 - val_accuracy: 0.8693\n",
      "Epoch 15/100\n",
      "217/217 [==============================] - 0s 799us/step - loss: 0.3709 - accuracy: 0.8691 - val_loss: 0.3556 - val_accuracy: 0.8798\n",
      "Epoch 16/100\n",
      "217/217 [==============================] - 0s 825us/step - loss: 0.3533 - accuracy: 0.8824 - val_loss: 0.3398 - val_accuracy: 0.8862\n",
      "Epoch 17/100\n",
      "217/217 [==============================] - 0s 787us/step - loss: 0.3386 - accuracy: 0.8848 - val_loss: 0.3251 - val_accuracy: 0.8924\n",
      "Epoch 18/100\n",
      "217/217 [==============================] - 0s 747us/step - loss: 0.3163 - accuracy: 0.8928 - val_loss: 0.3116 - val_accuracy: 0.8985\n",
      "Epoch 19/100\n",
      "217/217 [==============================] - 0s 775us/step - loss: 0.3118 - accuracy: 0.8957 - val_loss: 0.2990 - val_accuracy: 0.9038\n",
      "Epoch 20/100\n",
      "217/217 [==============================] - 0s 739us/step - loss: 0.2958 - accuracy: 0.9074 - val_loss: 0.2874 - val_accuracy: 0.9082\n",
      "Epoch 21/100\n",
      "217/217 [==============================] - 0s 743us/step - loss: 0.2906 - accuracy: 0.9031 - val_loss: 0.2767 - val_accuracy: 0.9137\n",
      "Epoch 22/100\n",
      "217/217 [==============================] - 0s 774us/step - loss: 0.2699 - accuracy: 0.9158 - val_loss: 0.2666 - val_accuracy: 0.9143\n",
      "Epoch 23/100\n",
      "217/217 [==============================] - 0s 754us/step - loss: 0.2629 - accuracy: 0.9147 - val_loss: 0.2574 - val_accuracy: 0.9161\n",
      "Epoch 24/100\n",
      "217/217 [==============================] - 0s 780us/step - loss: 0.2537 - accuracy: 0.9179 - val_loss: 0.2487 - val_accuracy: 0.9202\n",
      "Epoch 25/100\n",
      "217/217 [==============================] - 0s 766us/step - loss: 0.2478 - accuracy: 0.9216 - val_loss: 0.2406 - val_accuracy: 0.9242\n",
      "Epoch 26/100\n",
      "217/217 [==============================] - 0s 743us/step - loss: 0.2415 - accuracy: 0.9212 - val_loss: 0.2331 - val_accuracy: 0.9275\n",
      "Epoch 27/100\n",
      "217/217 [==============================] - 0s 750us/step - loss: 0.2325 - accuracy: 0.9256 - val_loss: 0.2261 - val_accuracy: 0.9295\n",
      "Epoch 28/100\n",
      "217/217 [==============================] - 0s 769us/step - loss: 0.2255 - accuracy: 0.9254 - val_loss: 0.2195 - val_accuracy: 0.9316\n",
      "Epoch 29/100\n",
      "217/217 [==============================] - 0s 769us/step - loss: 0.2145 - accuracy: 0.9311 - val_loss: 0.2132 - val_accuracy: 0.9348\n",
      "Epoch 30/100\n",
      "217/217 [==============================] - 0s 747us/step - loss: 0.2156 - accuracy: 0.9313 - val_loss: 0.2075 - val_accuracy: 0.9362\n",
      "Epoch 31/100\n",
      "217/217 [==============================] - 0s 748us/step - loss: 0.2077 - accuracy: 0.9376 - val_loss: 0.2021 - val_accuracy: 0.9389\n",
      "Epoch 32/100\n",
      "217/217 [==============================] - 0s 747us/step - loss: 0.1971 - accuracy: 0.9339 - val_loss: 0.1970 - val_accuracy: 0.9406\n",
      "Epoch 33/100\n",
      "217/217 [==============================] - 0s 742us/step - loss: 0.1969 - accuracy: 0.9365 - val_loss: 0.1923 - val_accuracy: 0.9412\n",
      "Epoch 34/100\n",
      "217/217 [==============================] - 0s 761us/step - loss: 0.1939 - accuracy: 0.9350 - val_loss: 0.1878 - val_accuracy: 0.9430\n",
      "Epoch 35/100\n",
      "217/217 [==============================] - 0s 777us/step - loss: 0.1850 - accuracy: 0.9391 - val_loss: 0.1836 - val_accuracy: 0.9444\n",
      "Epoch 36/100\n",
      "217/217 [==============================] - 0s 745us/step - loss: 0.1874 - accuracy: 0.9373 - val_loss: 0.1797 - val_accuracy: 0.9459\n",
      "Epoch 37/100\n",
      "217/217 [==============================] - 0s 747us/step - loss: 0.1759 - accuracy: 0.9418 - val_loss: 0.1760 - val_accuracy: 0.9468\n",
      "Epoch 38/100\n",
      "217/217 [==============================] - 0s 751us/step - loss: 0.1721 - accuracy: 0.9460 - val_loss: 0.1725 - val_accuracy: 0.9476\n",
      "Epoch 39/100\n",
      "217/217 [==============================] - 0s 750us/step - loss: 0.1708 - accuracy: 0.9396 - val_loss: 0.1692 - val_accuracy: 0.9482\n",
      "Epoch 40/100\n",
      "217/217 [==============================] - 0s 749us/step - loss: 0.1711 - accuracy: 0.9431 - val_loss: 0.1662 - val_accuracy: 0.9488\n",
      "Epoch 41/100\n",
      "217/217 [==============================] - 0s 758us/step - loss: 0.1601 - accuracy: 0.9470 - val_loss: 0.1633 - val_accuracy: 0.9497\n",
      "Epoch 42/100\n",
      "217/217 [==============================] - 0s 748us/step - loss: 0.1609 - accuracy: 0.9481 - val_loss: 0.1606 - val_accuracy: 0.9497\n",
      "Epoch 43/100\n",
      "217/217 [==============================] - 0s 741us/step - loss: 0.1579 - accuracy: 0.9495 - val_loss: 0.1581 - val_accuracy: 0.9485\n",
      "Epoch 44/100\n",
      "217/217 [==============================] - 0s 772us/step - loss: 0.1540 - accuracy: 0.9501 - val_loss: 0.1557 - val_accuracy: 0.9488\n",
      "Epoch 45/100\n",
      "217/217 [==============================] - 0s 785us/step - loss: 0.1608 - accuracy: 0.9455 - val_loss: 0.1535 - val_accuracy: 0.9497\n",
      "Epoch 46/100\n",
      "217/217 [==============================] - 0s 774us/step - loss: 0.1495 - accuracy: 0.9496 - val_loss: 0.1513 - val_accuracy: 0.9497\n",
      "Epoch 47/100\n",
      "217/217 [==============================] - 0s 756us/step - loss: 0.1493 - accuracy: 0.9501 - val_loss: 0.1494 - val_accuracy: 0.9506\n",
      "Epoch 48/100\n",
      "217/217 [==============================] - 0s 748us/step - loss: 0.1458 - accuracy: 0.9508 - val_loss: 0.1475 - val_accuracy: 0.9506\n",
      "Epoch 49/100\n",
      "217/217 [==============================] - 0s 770us/step - loss: 0.1474 - accuracy: 0.9483 - val_loss: 0.1458 - val_accuracy: 0.9512\n",
      "Epoch 50/100\n",
      "217/217 [==============================] - 0s 780us/step - loss: 0.1439 - accuracy: 0.9515 - val_loss: 0.1442 - val_accuracy: 0.9509\n",
      "Epoch 51/100\n",
      "217/217 [==============================] - 0s 756us/step - loss: 0.1447 - accuracy: 0.9502 - val_loss: 0.1427 - val_accuracy: 0.9512\n",
      "Epoch 52/100\n",
      "217/217 [==============================] - 0s 930us/step - loss: 0.1336 - accuracy: 0.9557 - val_loss: 0.1413 - val_accuracy: 0.9517\n",
      "Epoch 53/100\n",
      "217/217 [==============================] - 0s 748us/step - loss: 0.1396 - accuracy: 0.9502 - val_loss: 0.1400 - val_accuracy: 0.9517\n",
      "Epoch 54/100\n",
      "217/217 [==============================] - 0s 743us/step - loss: 0.1426 - accuracy: 0.9501 - val_loss: 0.1388 - val_accuracy: 0.9520\n",
      "Epoch 55/100\n",
      "217/217 [==============================] - 0s 755us/step - loss: 0.1380 - accuracy: 0.9521 - val_loss: 0.1376 - val_accuracy: 0.9532\n",
      "Epoch 56/100\n",
      "217/217 [==============================] - 0s 748us/step - loss: 0.1374 - accuracy: 0.9499 - val_loss: 0.1365 - val_accuracy: 0.9538\n",
      "Epoch 57/100\n"
     ]
    },
    {
     "name": "stdout",
     "output_type": "stream",
     "text": [
      "217/217 [==============================] - 0s 743us/step - loss: 0.1325 - accuracy: 0.9536 - val_loss: 0.1356 - val_accuracy: 0.9538\n",
      "Epoch 58/100\n",
      "217/217 [==============================] - 0s 747us/step - loss: 0.1348 - accuracy: 0.9488 - val_loss: 0.1347 - val_accuracy: 0.9535\n",
      "Epoch 59/100\n",
      "217/217 [==============================] - 0s 756us/step - loss: 0.1396 - accuracy: 0.9505 - val_loss: 0.1338 - val_accuracy: 0.9541\n",
      "Epoch 60/100\n",
      "217/217 [==============================] - 0s 755us/step - loss: 0.1304 - accuracy: 0.9535 - val_loss: 0.1330 - val_accuracy: 0.9541\n",
      "Epoch 61/100\n",
      "217/217 [==============================] - 0s 740us/step - loss: 0.1255 - accuracy: 0.9566 - val_loss: 0.1323 - val_accuracy: 0.9541\n",
      "Epoch 62/100\n",
      "217/217 [==============================] - 0s 761us/step - loss: 0.1256 - accuracy: 0.9567 - val_loss: 0.1316 - val_accuracy: 0.9541\n",
      "Epoch 63/100\n",
      "217/217 [==============================] - 0s 751us/step - loss: 0.1248 - accuracy: 0.9572 - val_loss: 0.1309 - val_accuracy: 0.9544\n",
      "Epoch 64/100\n",
      "217/217 [==============================] - 0s 794us/step - loss: 0.1298 - accuracy: 0.9557 - val_loss: 0.1303 - val_accuracy: 0.9544\n",
      "Epoch 65/100\n",
      "217/217 [==============================] - 0s 762us/step - loss: 0.1293 - accuracy: 0.9552 - val_loss: 0.1297 - val_accuracy: 0.9538\n",
      "Epoch 66/100\n",
      "217/217 [==============================] - 0s 770us/step - loss: 0.1314 - accuracy: 0.9534 - val_loss: 0.1292 - val_accuracy: 0.9544\n",
      "Epoch 67/100\n",
      "217/217 [==============================] - 0s 755us/step - loss: 0.1310 - accuracy: 0.9545 - val_loss: 0.1287 - val_accuracy: 0.9544\n",
      "Epoch 68/100\n",
      "217/217 [==============================] - 0s 753us/step - loss: 0.1229 - accuracy: 0.9562 - val_loss: 0.1282 - val_accuracy: 0.9544\n",
      "Epoch 69/100\n",
      "217/217 [==============================] - 0s 750us/step - loss: 0.1285 - accuracy: 0.9527 - val_loss: 0.1277 - val_accuracy: 0.9547\n",
      "Epoch 70/100\n",
      "217/217 [==============================] - 0s 750us/step - loss: 0.1243 - accuracy: 0.9575 - val_loss: 0.1273 - val_accuracy: 0.9547\n",
      "Epoch 71/100\n",
      "217/217 [==============================] - 0s 791us/step - loss: 0.1264 - accuracy: 0.9565 - val_loss: 0.1269 - val_accuracy: 0.9544\n",
      "Epoch 72/100\n",
      "217/217 [==============================] - 0s 793us/step - loss: 0.1299 - accuracy: 0.9492 - val_loss: 0.1266 - val_accuracy: 0.9550\n",
      "Epoch 73/100\n",
      "217/217 [==============================] - 0s 746us/step - loss: 0.1260 - accuracy: 0.9570 - val_loss: 0.1262 - val_accuracy: 0.9547\n",
      "Epoch 74/100\n",
      "217/217 [==============================] - 0s 759us/step - loss: 0.1277 - accuracy: 0.9533 - val_loss: 0.1259 - val_accuracy: 0.9550\n",
      "Epoch 75/100\n",
      "217/217 [==============================] - 0s 747us/step - loss: 0.1232 - accuracy: 0.9553 - val_loss: 0.1256 - val_accuracy: 0.9544\n",
      "Epoch 76/100\n",
      "217/217 [==============================] - 0s 743us/step - loss: 0.1160 - accuracy: 0.9590 - val_loss: 0.1253 - val_accuracy: 0.9547\n",
      "Epoch 77/100\n",
      "217/217 [==============================] - 0s 785us/step - loss: 0.1220 - accuracy: 0.9558 - val_loss: 0.1250 - val_accuracy: 0.9547\n",
      "Epoch 78/100\n",
      "217/217 [==============================] - 0s 761us/step - loss: 0.1229 - accuracy: 0.9548 - val_loss: 0.1248 - val_accuracy: 0.9550\n",
      "Epoch 79/100\n",
      "217/217 [==============================] - 0s 735us/step - loss: 0.1260 - accuracy: 0.9548 - val_loss: 0.1245 - val_accuracy: 0.9547\n",
      "Epoch 80/100\n",
      "217/217 [==============================] - 0s 753us/step - loss: 0.1236 - accuracy: 0.9558 - val_loss: 0.1243 - val_accuracy: 0.9553\n",
      "Epoch 81/100\n",
      "217/217 [==============================] - 0s 758us/step - loss: 0.1303 - accuracy: 0.9529 - val_loss: 0.1241 - val_accuracy: 0.9550\n",
      "Epoch 82/100\n",
      "217/217 [==============================] - 0s 833us/step - loss: 0.1273 - accuracy: 0.9555 - val_loss: 0.1239 - val_accuracy: 0.9553\n",
      "Epoch 83/100\n",
      "217/217 [==============================] - 0s 757us/step - loss: 0.1275 - accuracy: 0.9528 - val_loss: 0.1238 - val_accuracy: 0.9553\n",
      "Epoch 84/100\n",
      "217/217 [==============================] - 0s 743us/step - loss: 0.1246 - accuracy: 0.9556 - val_loss: 0.1236 - val_accuracy: 0.9553\n",
      "Epoch 85/100\n",
      "217/217 [==============================] - 0s 741us/step - loss: 0.1204 - accuracy: 0.9555 - val_loss: 0.1234 - val_accuracy: 0.9553\n",
      "Epoch 86/100\n",
      "217/217 [==============================] - 0s 734us/step - loss: 0.1187 - accuracy: 0.9544 - val_loss: 0.1232 - val_accuracy: 0.9553\n",
      "Epoch 87/100\n",
      "217/217 [==============================] - 0s 741us/step - loss: 0.1228 - accuracy: 0.9545 - val_loss: 0.1231 - val_accuracy: 0.9550\n",
      "Epoch 88/100\n",
      "217/217 [==============================] - 0s 747us/step - loss: 0.1212 - accuracy: 0.9586 - val_loss: 0.1230 - val_accuracy: 0.9550\n",
      "Epoch 89/100\n",
      "217/217 [==============================] - 0s 755us/step - loss: 0.1214 - accuracy: 0.9585 - val_loss: 0.1228 - val_accuracy: 0.9550\n",
      "Epoch 90/100\n",
      "217/217 [==============================] - 0s 838us/step - loss: 0.1194 - accuracy: 0.9564 - val_loss: 0.1227 - val_accuracy: 0.9550\n",
      "Epoch 91/100\n",
      "217/217 [==============================] - 0s 768us/step - loss: 0.1206 - accuracy: 0.9565 - val_loss: 0.1226 - val_accuracy: 0.9547\n",
      "Epoch 92/100\n",
      "217/217 [==============================] - 0s 771us/step - loss: 0.1231 - accuracy: 0.9567 - val_loss: 0.1225 - val_accuracy: 0.9547\n",
      "Epoch 93/100\n",
      "217/217 [==============================] - 0s 770us/step - loss: 0.1170 - accuracy: 0.9584 - val_loss: 0.1224 - val_accuracy: 0.9547\n",
      "Epoch 94/100\n",
      "217/217 [==============================] - 0s 753us/step - loss: 0.1159 - accuracy: 0.9578 - val_loss: 0.1223 - val_accuracy: 0.9547\n",
      "Epoch 95/100\n",
      "217/217 [==============================] - 0s 753us/step - loss: 0.1154 - accuracy: 0.9586 - val_loss: 0.1222 - val_accuracy: 0.9547\n",
      "Epoch 96/100\n",
      "217/217 [==============================] - 0s 768us/step - loss: 0.1225 - accuracy: 0.9567 - val_loss: 0.1221 - val_accuracy: 0.9547\n",
      "Epoch 97/100\n",
      "217/217 [==============================] - 0s 742us/step - loss: 0.1183 - accuracy: 0.9586 - val_loss: 0.1220 - val_accuracy: 0.9547\n",
      "Epoch 98/100\n",
      "217/217 [==============================] - 0s 750us/step - loss: 0.1261 - accuracy: 0.9535 - val_loss: 0.1219 - val_accuracy: 0.9547\n",
      "Epoch 99/100\n",
      "217/217 [==============================] - 0s 745us/step - loss: 0.1175 - accuracy: 0.9570 - val_loss: 0.1218 - val_accuracy: 0.9547\n",
      "Epoch 100/100\n",
      "217/217 [==============================] - 0s 749us/step - loss: 0.1198 - accuracy: 0.9555 - val_loss: 0.1217 - val_accuracy: 0.9547\n",
      "217/217 [==============================] - 0s 391us/step - loss: 0.1207 - accuracy: 0.9549\n",
      "Train score: [0.1206883117556572, 0.9548991322517395]\n",
      "107/107 [==============================] - 0s 411us/step - loss: 0.1217 - accuracy: 0.9547\n",
      "Test score: [0.12174984812736511, 0.9546651244163513]\n"
     ]
    }
   ],
   "source": [
    "model = tf.keras.models.Sequential([\n",
    "    tf.keras.layers.Input(shape=(D,)),\n",
    "    tf.keras.layers.Dense(1,activation='sigmoid')\n",
    "])\n",
    "\n",
    "model.compile(optimizer=\"adam\",\n",
    "             loss=\"binary_crossentropy\",\n",
    "             metrics=[\"accuracy\"])\n",
    "\n",
    "r = model.fit(X_train, y_train, validation_data=(X_test,y_test),epochs=100)\n",
    "\n",
    "print(\"Train score:\",model.evaluate(X_train,y_train))\n",
    "print(\"Test score:\",model.evaluate(X_test,y_test))"
   ]
  },
  {
   "cell_type": "code",
   "execution_count": 73,
   "metadata": {},
   "outputs": [
    {
     "data": {
      "text/plain": [
       "<matplotlib.legend.Legend at 0x158874f28>"
      ]
     },
     "execution_count": 73,
     "metadata": {},
     "output_type": "execute_result"
    },
    {
     "data": {
      "image/png": "[encoded data removed]",
      "text/plain": [
       "<Figure size 432x288 with 1 Axes>"
      ]
     },
     "metadata": {
      "needs_background": "light"
     },
     "output_type": "display_data"
    }
   ],
   "source": [
    "plt.plot(r.history[\"loss\"],label=\"loss\")\n",
    "plt.plot(r.history[\"val_loss\"],label=\"val_loss\")\n",
    "plt.legend()"
   ]
  },
  {
   "cell_type": "code",
   "execution_count": 74,
   "metadata": {},
   "outputs": [
    {
     "data": {
      "text/plain": [
       "<matplotlib.legend.Legend at 0x1587d8710>"
      ]
     },
     "execution_count": 74,
     "metadata": {},
     "output_type": "execute_result"
    },
    {
     "data": {
      "image/png": "[encoded data removed]",
      "text/plain": [
       "<Figure size 432x288 with 1 Axes>"
      ]
     },
     "metadata": {
      "needs_background": "light"
     },
     "output_type": "display_data"
    }
   ],
   "source": [
    "plt.plot(r.history[\"accuracy\"],label=\"acc\")\n",
    "plt.plot(r.history[\"val_accuracy\"],label=\"val_acc\")\n",
    "plt.legend()"
   ]
  },
  {
   "cell_type": "code",
   "execution_count": 75,
   "metadata": {},
   "outputs": [
    {
     "data": {
      "text/plain": [
       "array([[-1.85093679,  3.15488184],\n",
       "       [-1.80323712,  3.14652638],\n",
       "       [-1.78513546,  3.14162325],\n",
       "       ...,\n",
       "       [-0.38599103, -1.31094853],\n",
       "       [-0.38928733, -1.39389632],\n",
       "       [-0.46017693, -1.40857491]])"
      ]
     },
     "execution_count": 75,
     "metadata": {},
     "output_type": "execute_result"
    }
   ],
   "source": [
    "x=np.array([[24.45912869, 97.63675648]])\n",
    "x = scaler.transform(data)\n",
    "x"
   ]
  },
  {
   "cell_type": "code",
   "execution_count": 76,
   "metadata": {},
   "outputs": [],
   "source": [
    "predicho = model.predict(x)"
   ]
  },
  {
   "cell_type": "code",
   "execution_count": 77,
   "metadata": {},
   "outputs": [
    {
     "data": {
      "text/plain": [
       "array([[-1.85093679,  3.15488184],\n",
       "       [-1.80323712,  3.14652638],\n",
       "       [-1.78513546,  3.14162325],\n",
       "       ...,\n",
       "       [-0.38599103, -1.31094853],\n",
       "       [-0.38928733, -1.39389632],\n",
       "       [-0.46017693, -1.40857491]])"
      ]
     },
     "execution_count": 77,
     "metadata": {},
     "output_type": "execute_result"
    }
   ],
   "source": [
    "x"
   ]
  },
  {
   "cell_type": "code",
   "execution_count": 78,
   "metadata": {},
   "outputs": [],
   "source": [
    "predicho = np.round(predicho)"
   ]
  },
  {
   "cell_type": "code",
   "execution_count": 79,
   "metadata": {},
   "outputs": [
    {
     "data": {
      "text/plain": [
       "<matplotlib.legend.Legend at 0x158c4f6a0>"
      ]
     },
     "execution_count": 79,
     "metadata": {},
     "output_type": "execute_result"
    },
    {
     "data": {
      "image/png": "[encoded data removed]",
      "text/plain": [
       "<Figure size 1008x432 with 1 Axes>"
      ]
     },
     "metadata": {
      "needs_background": "light"
     },
     "output_type": "display_data"
    }
   ],
   "source": [
    "fig, ax  = plt.subplots(figsize=(14,6))\n",
    "\n",
    "ax.plot(predicho,'ro',label=\"predicted\")\n",
    "ax.plot(target  ,'k.',label=\"target\")\n",
    "ax.legend()"
   ]
  },
  {
   "cell_type": "code",
   "execution_count": 68,
   "metadata": {},
   "outputs": [
    {
     "data": {
      "text/plain": [
       "(10359,)"
      ]
     },
     "execution_count": 68,
     "metadata": {},
     "output_type": "execute_result"
    }
   ],
   "source": [
    "target.shape"
   ]
  },
  {
   "cell_type": "code",
   "execution_count": 69,
   "metadata": {},
   "outputs": [
    {
     "data": {
      "text/plain": [
       "(10359, 1)"
      ]
     },
     "execution_count": 69,
     "metadata": {},
     "output_type": "execute_result"
    }
   ],
   "source": [
    "predicho.shape"
   ]
  },
  {
   "cell_type": "code",
   "execution_count": null,
   "metadata": {},
   "outputs": [],
   "source": [
    "# X_train"
   ]
  },
  {
   "cell_type": "code",
   "execution_count": null,
   "metadata": {},
   "outputs": [],
   "source": []
  }
 ],
 "metadata": {
  "kernelspec": {
   "display_name": "Python 3",
   "language": "python",
   "name": "python3"
  },
  "language_info": {
   "codemirror_mode": {
    "name": "ipython",
    "version": 3
   },
   "file_extension": ".py",
   "mimetype": "text/x-python",
   "name": "python",
   "nbconvert_exporter": "python",
   "pygments_lexer": "ipython3",
   "version": "3.7.3"
  }
 },
 "nbformat": 4,
 "nbformat_minor": 4
}
